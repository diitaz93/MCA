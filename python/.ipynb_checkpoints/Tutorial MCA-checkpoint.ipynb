{
 "metadata": {
  "name": "",
  "signature": "sha256:7335accf04e85ea29bc988918b5db12a2f5f1b506568f2014fb9d678e8ea96cb"
 },
 "nbformat": 3,
 "nbformat_minor": 0,
 "worksheets": []
}