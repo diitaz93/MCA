{
 "metadata": {
  "name": "",
  "signature": "sha256:17628cc2c778f8c5f89003a0e222a5bb4d85cb1bf06e3e2e71fd3a90aa94f0d4"
 },
 "nbformat": 3,
 "nbformat_minor": 0,
 "worksheets": [
  {
   "cells": [
    {
     "cell_type": "code",
     "collapsed": false,
     "input": [
      "%pylab inline"
     ],
     "language": "python",
     "metadata": {},
     "outputs": [
      {
       "output_type": "stream",
       "stream": "stdout",
       "text": [
        "Populating the interactive namespace from numpy and matplotlib\n"
       ]
      }
     ],
     "prompt_number": 15
    },
    {
     "cell_type": "code",
     "collapsed": false,
     "input": [
      "N=10\n",
      "X=zeros(N)\n",
      "Y=X\n",
      "U1=X\n",
      "U2=X"
     ],
     "language": "python",
     "metadata": {},
     "outputs": [],
     "prompt_number": 16
    },
    {
     "cell_type": "code",
     "collapsed": false,
     "input": [
      "r=(array(rand(1,2))+1.0)/2.0\n",
      "print U1,U2,X,Y"
     ],
     "language": "python",
     "metadata": {},
     "outputs": [
      {
       "output_type": "stream",
       "stream": "stdout",
       "text": [
        "[ 0.30059251 -0.26312037 -0.63001328 -0.78120253 -1.82309398 -0.27808906\n",
        " -0.28941909  0.31587054 -2.96431028 -0.38866033] [ 0.30059251 -0.26312037 -0.63001328 -0.78120253 -1.82309398 -0.27808906\n",
        " -0.28941909  0.31587054 -2.96431028 -0.38866033] [ 0.30059251 -0.26312037 -0.63001328 -0.78120253 -1.82309398 -0.27808906\n",
        " -0.28941909  0.31587054 -2.96431028 -0.38866033] [ 0.30059251 -0.26312037 -0.63001328 -0.78120253 -1.82309398 -0.27808906\n",
        " -0.28941909  0.31587054 -2.96431028 -0.38866033]\n"
       ]
      }
     ],
     "prompt_number": 23
    },
    {
     "cell_type": "code",
     "collapsed": false,
     "input": [
      "for i in range (N):\n",
      "    R=rand(1,2)\n",
      "    u1=R[0,0]\n",
      "    u2=R[0,1]\n",
      "    U1[i]=u1\n",
      "    U2[i]=u2\n",
      "    phi=2*pi*u1\n",
      "    r=sqrt(-2*log(u2))\n",
      "    x=r*cos(phi)\n",
      "    y=r*sin(phi)\n",
      "    X[i]=x\n",
      "    Y[i]=y"
     ],
     "language": "python",
     "metadata": {},
     "outputs": [],
     "prompt_number": 18
    },
    {
     "cell_type": "code",
     "collapsed": false,
     "input": [
      "figure()\n",
      "subplot(1,2,1)\n",
      "scatter(U1,U2)\n",
      "subplot(1,2,2)\n",
      "scatter(X,Y)\n",
      "show()"
     ],
     "language": "python",
     "metadata": {},
     "outputs": [
      {
       "metadata": {},
       "output_type": "display_data",
       "png": "[encoded data removed]",
       "text": [
        "<matplotlib.figure.Figure at 0x7fe281741a90>"
       ]
      }
     ],
     "prompt_number": 19
    },
    {
     "cell_type": "markdown",
     "metadata": {},
     "source": [
      "#Metropolis-Hastings"
     ]
    },
    {
     "cell_type": "code",
     "collapsed": false,
     "input": [
      "x0=0\n",
      "x=array(x0)"
     ],
     "language": "python",
     "metadata": {},
     "outputs": [],
     "prompt_number": 24
    },
    {
     "cell_type": "code",
     "collapsed": false,
     "input": [],
     "language": "python",
     "metadata": {},
     "outputs": []
    }
   ],
   "metadata": {}
  }
 ]
}