{
 "metadata": {
  "name": "",
  "signature": "sha256:9220e18b87e71cc95a1bc2e44cd65b332fb10d71e1563300032b97d6fe19239c"
 },
 "nbformat": 3,
 "nbformat_minor": 0,
 "worksheets": [
  {
   "cells": [
    {
     "cell_type": "code",
     "collapsed": false,
     "input": [
      "import matplotlib.pyplot as plt\n",
      "import numpy as np\n",
      "from matplotlib.backends.backend_pdf import PdfPages"
     ],
     "language": "python",
     "metadata": {},
     "outputs": [],
     "prompt_number": 8
    },
    {
     "cell_type": "code",
     "collapsed": false,
     "input": [
      "data=np.genfromtxt('fig9.dat')"
     ],
     "language": "python",
     "metadata": {},
     "outputs": [],
     "prompt_number": 2
    },
    {
     "cell_type": "code",
     "collapsed": false,
     "input": [
      "fig9=plt.figure(figsize=(8,20))\n",
      "plt.subplot(2,1,1)\n",
      "plt.scatter(data[:,0],data[:,1],s=0.05,c='k')\n",
      "plt.ylim((-2.5,2.5))\n",
      "plt.xlim((-3,3))\n",
      "plt.ylabel(r'$p_3$')\n",
      "plt.xlabel(r'$q_3$')\n",
      "plt.title(r'Figura 9 SIA')\n",
      "plt.subplot(2,1,2)\n",
      "plt.scatter(data[:,2],data[:,3],s=0.05,c='k')\n",
      "plt.ylim((-2.5,2.5))\n",
      "plt.xlim((-3,3))\n",
      "plt.ylabel(r'$p_3$')\n",
      "plt.xlabel(r'$q_3$')\n",
      "plt.title(r'Figura 9 RK4')\n",
      "plt.show(fig9)"
     ],
     "language": "python",
     "metadata": {},
     "outputs": [],
     "prompt_number": 6
    },
    {
     "cell_type": "code",
     "collapsed": false,
     "input": [
      "fig9=plt.figure(figsize=(8,20))\n",
      "plt.subplot(2,1,1)\n",
      "plt.scatter(data[:,0],data[:,1],s=1,c='k')\n",
      "plt.ylim((-0.6,0.6))\n",
      "plt.xlim((-2.4,-0.9))\n",
      "plt.ylabel(r'$p_3$')\n",
      "plt.xlabel(r'$q_3$')\n",
      "plt.title(r'Figura 9 SIA')\n",
      "plt.subplot(2,1,2)\n",
      "plt.scatter(data[:,2],data[:,3],s=1,c='k')\n",
      "plt.ylim((-1,1.5))\n",
      "plt.xlim((-2.8,-0.8))\n",
      "plt.ylabel(r'$p_3$')\n",
      "plt.xlabel(r'$q_3$')\n",
      "plt.title(r'Figura 9 RK4')\n",
      "plt.show(fig9)"
     ],
     "language": "python",
     "metadata": {},
     "outputs": [],
     "prompt_number": 12
    },
    {
     "cell_type": "code",
     "collapsed": false,
     "input": [
      "fig9=plt.figure(figsize=(8,20))\n",
      "plt.subplot(2,1,1)\n",
      "plt.scatter(data[:,0],data[:,1],s=0.05,c='k')\n",
      "plt.ylim((-0.35,0.35))\n",
      "plt.xlim((-0.2,0.8))\n",
      "plt.ylabel(r'$p_3$')\n",
      "plt.xlabel(r'$q_3$')\n",
      "plt.title(r'Figura 9 SIA')\n",
      "plt.subplot(2,1,2)\n",
      "plt.scatter(data[:,2],data[:,3],s=0.05,c='k')\n",
      "plt.ylim((-0.35,0.35))\n",
      "plt.xlim((-0.2,0.8))\n",
      "plt.ylabel(r'$p_3$')\n",
      "plt.xlabel(r'$q_3$')\n",
      "plt.title(r'Figura 9 RK4')\n",
      "plt.show(fig9)"
     ],
     "language": "python",
     "metadata": {},
     "outputs": [],
     "prompt_number": 13
    },
    {
     "cell_type": "code",
     "collapsed": false,
     "input": [
      "pdf=PdfPages('Figuras.pdf')\n",
      "pdf.savefig(fig9)\n",
      "pdf.savefig(fig10)\n",
      "pdf.close()"
     ],
     "language": "python",
     "metadata": {},
     "outputs": [],
     "prompt_number": 22
    },
    {
     "cell_type": "code",
     "collapsed": false,
     "input": [
      "#FIGURA 17\n",
      "data=np.genfromtxt('fig17.dat')\n"
     ],
     "language": "python",
     "metadata": {},
     "outputs": [],
     "prompt_number": 2
    },
    {
     "cell_type": "code",
     "collapsed": false,
     "input": [
      "\n",
      "#FIGURA 17\n",
      "data=np.genfromtxt('fig17.dat')\n",
      "fig17=plt.figure(figsize=(15,15))\n",
      "plt.subplot(2,2,1)\n",
      "plt.plot(data[:,0],data[:,2],c='k')\n",
      "plt.ylabel(r'E')\n",
      "plt.xlabel(r'$t$')\n",
      "plt.title(r'Symplectic Integrator, $\\Delta E/E=$3.8547e-012')\n",
      "plt.subplot(2,2,2)\n",
      "plt.plot(data[:,1],data[:,3],c='k')\n",
      "plt.ylabel(r'E')\n",
      "plt.xlabel(r'$t$')\n",
      "plt.title(r'Symplectic Integrator, $\\Delta E/E=$1.3195e-07')\n",
      "plt.subplot(2,2,3)\n",
      "plt.plot(data[:,0],data[:,4],c='k')\n",
      "plt.ylabel(r'E')\n",
      "plt.xlabel(r'$t$')\n",
      "plt.title(r'Traditional Integrator, $\\Delta E/E=$5.7048e-005')\n",
      "plt.subplot(2,2,4)\n",
      "plt.plot(data[:,1],data[:,5],c='k')\n",
      "plt.ylabel(r'E')\n",
      "plt.xlabel(r'$t$')\n",
      "plt.title(r'Traditional Integrator, $\\Delta E/E=$0.079921')\n",
      "\n",
      "plt.show(fig17)"
     ],
     "language": "python",
     "metadata": {},
     "outputs": [],
     "prompt_number": 13
    },
    {
     "cell_type": "code",
     "collapsed": false,
     "input": [],
     "language": "python",
     "metadata": {},
     "outputs": []
    }
   ],
   "metadata": {}
  }
 ]
}