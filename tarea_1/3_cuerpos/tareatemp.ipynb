{
 "metadata": {
  "name": "",
  "signature": "sha256:97a38b200fb0f96856047a27f507060b82fdbae5c5cd23fff954d0a29afeee0f"
 },
 "nbformat": 3,
 "nbformat_minor": 0,
 "worksheets": [
  {
   "cells": [
    {
     "cell_type": "code",
     "collapsed": false,
     "input": [
      "import matplotlib.pyplot as plt\n",
      "import numpy as np\n",
      "from matplotlib.backends.backend_pdf import PdfPages"
     ],
     "language": "python",
     "metadata": {},
     "outputs": [],
     "prompt_number": 1
    },
    {
     "cell_type": "code",
     "collapsed": false,
     "input": [
      "data=np.genfromtxt('fig9.dat')"
     ],
     "language": "python",
     "metadata": {},
     "outputs": [],
     "prompt_number": 2
    },
    {
     "cell_type": "code",
     "collapsed": false,
     "input": [
      "fig9=plt.figure(figsize=(8,20))\n",
      "plt.subplot(2,1,1)\n",
      "plt.scatter(data[:,0],data[:,1],s=1,c='k')\n",
      "plt.ylabel(r'$p_3$')\n",
      "plt.xlabel(r'$q_3$')\n",
      "plt.title(r'Figura 9 SIA')\n",
      "plt.subplot(2,1,2)\n",
      "plt.scatter(data[:,2],data[:,3],s=1,c='k')\n",
      "plt.ylabel(r'$p_3$')\n",
      "plt.xlabel(r'$q_3$')\n",
      "plt.title(r'Figura 9 RK4')\n",
      "plt.show(fig9)"
     ],
     "language": "python",
     "metadata": {},
     "outputs": [],
     "prompt_number": 10
    },
    {
     "cell_type": "code",
     "collapsed": false,
     "input": [
      "pdf=PdfPages('Figuras.pdf')\n",
      "pdf.savefig(fig9)\n",
      "pdf.savefig(fig10)\n",
      "pdf.close()"
     ],
     "language": "python",
     "metadata": {},
     "outputs": [],
     "prompt_number": 22
    },
    {
     "cell_type": "code",
     "collapsed": false,
     "input": [
      "#FIGURA 17\n",
      "data=np.genfromtxt('fig17.dat')\n"
     ],
     "language": "python",
     "metadata": {},
     "outputs": [],
     "prompt_number": 2
    },
    {
     "cell_type": "code",
     "collapsed": false,
     "input": [
      "\n",
      "#FIGURA 17\n",
      "data=np.genfromtxt('fig17.dat')\n",
      "fig17=plt.figure(figsize=(15,15))\n",
      "plt.subplot(2,2,1)\n",
      "plt.plot(data[:,0],data[:,2],c='k')\n",
      "plt.ylabel(r'E')\n",
      "plt.xlabel(r'$t$')\n",
      "plt.title(r'Symplectic Integrator, $\\Delta E/E=$3.8547e-012')\n",
      "plt.subplot(2,2,2)\n",
      "plt.plot(data[:,1],data[:,3],c='k')\n",
      "plt.ylabel(r'E')\n",
      "plt.xlabel(r'$t$')\n",
      "plt.title(r'Symplectic Integrator, $\\Delta E/E=$1.3195e-07')\n",
      "plt.subplot(2,2,3)\n",
      "plt.plot(data[:,0],data[:,4],c='k')\n",
      "plt.ylabel(r'E')\n",
      "plt.xlabel(r'$t$')\n",
      "plt.title(r'Traditional Integrator, $\\Delta E/E=$5.7048e-005')\n",
      "plt.subplot(2,2,4)\n",
      "plt.plot(data[:,1],data[:,5],c='k')\n",
      "plt.ylabel(r'E')\n",
      "plt.xlabel(r'$t$')\n",
      "plt.title(r'Traditional Integrator, $\\Delta E/E=$0.079921')\n",
      "\n",
      "plt.show(fig17)"
     ],
     "language": "python",
     "metadata": {},
     "outputs": [],
     "prompt_number": 13
    },
    {
     "cell_type": "code",
     "collapsed": false,
     "input": [],
     "language": "python",
     "metadata": {},
     "outputs": []
    }
   ],
   "metadata": {}
  }
 ]
}